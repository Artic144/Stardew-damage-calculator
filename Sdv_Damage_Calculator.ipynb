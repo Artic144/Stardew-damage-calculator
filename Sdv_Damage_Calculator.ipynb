{
  "nbformat": 4,
  "nbformat_minor": 0,
  "metadata": {
    "colab": {
      "provenance": [],
      "collapsed_sections": [
        "bsNtPR9fBi9e",
        "XlD76SKeDey1",
        "nGPiA4EGQFpT",
        "u7t7knugGRot",
        "TtZlTOs4NDY8",
        "d3ro85I_SNbz",
        "aeadV18qT6WE",
        "ZOTX7CbiRzYC"
      ]
    },
    "kernelspec": {
      "name": "python3",
      "display_name": "Python 3"
    },
    "language_info": {
      "name": "python"
    }
  },
  "cells": [
    {
      "cell_type": "markdown",
      "source": [
        "# Custom Stardew Valley Damage Calculator\n",
        "\n",
        "Welcome, to create your own copy of the calculator please go to File -> Save a copy in Drive. From there you can open up an editable version and start calculating. Please read the notes by each section carefully to not break the calculator. Each section has a dropdown that you can open to edit, otherwise it will have a default setting pre-loaded."
      ],
      "metadata": {
        "id": "BeWD6uWLAY9M"
      }
    },
    {
      "cell_type": "markdown",
      "source": [
        "# Weapon\n",
        "### Default: `[\"Infinity Blade\",17,80,100,0.02,3,\"Sword\"]`\n",
        "\n",
        "Choose your weapon that you'd like to create a build with. Examples are provided but if you'd like to use a different weapon, refer to [the wiki](https://stardewvalleywiki.com/Weapons) for weapon stats."
      ],
      "metadata": {
        "id": "bsNtPR9fBi9e"
      }
    },
    {
      "cell_type": "code",
      "execution_count": null,
      "metadata": {
        "id": "Mqeni-eTCj0C"
      },
      "outputs": [],
      "source": [
        "'''\n",
        "Weapon Format Guide ->  [\"Weapon Name\",Level,Min Dmg,Max Dmg,Crit Rate,Crit Multi,\"Weapon Type\"]\n",
        "\n",
        "EXAMPLE WEAPONS:\n",
        "[\"Infinity Blade\",17,80,100,0.02,3,\"Sword\"]\n",
        "[\"Dragontooth Cutlass\",13,75,90,0.02,4,\"Sword\"]\n",
        "[\"Dwarf Sword\",13,65,75,0.02,3,\"Sword\"]\n",
        "[\"Galaxy Sword\",13,60,80,0.02,3,\"Sword\"]\n",
        "[\"Lava Katana\",10,55,64,0.015,3.5,\"Sword\"]\n",
        "[\"Obsidian Edge\",6,30,45,0.02,3.2,\"Sword\"]\n",
        "[\"Steel Smallsword\",1,4,8,0.02,3,\"Sword\"]\n",
        "[\"Rusty Sword\",1,2,5,0.02,3,\"Sword\"]\n",
        "[\"Infinity Dagger\",16,50,70,0.06,3,\"Dagger\"]\n",
        "[\"Dragontooth Shiv\",12,40,50,0.05,5,\"Dagger\"]\n",
        "[\"Iridium Needle\",12,20,35,0.1,7,\"Dagger\"]\n",
        "[\"Dwarf Dagger\",11,32,38,0.03,3,\"Dagger\"]\n",
        "[\"Wicked Kris\",8,24,40,0.06,3,\"Dagger\"]\n",
        "[\"Galaxy Dagger\",8,30,40,0.02,3,\"Dagger\"]\n",
        "[\"Crystal Dagger\",4,4,10,0.03,4,\"Dagger\"]\n",
        "[\"Infinity Gavel\",17,100,120,0.02,3,\"Club\"]\n",
        "[\"Dragontooth Club\",14,80,100,0.02,4,\"Club\"]\n",
        "[\"Dwarf Hammer\",13,75,85,0.02,3,\"Club\"]\n",
        "[\"Galaxy Hammer\",12,70,90,0.02,3,\"Club\"]\n",
        "'''\n",
        "\n",
        "# edit the base_weapon!\n",
        "base_weapon = [\"Infinity Blade\",17,80,100,0.02,3,\"Sword\"]"
      ]
    },
    {
      "cell_type": "markdown",
      "source": [
        "# Rings\n",
        "### Default: `[\"Iridium\",\"Aquamarine\",\"Jade\",\"Ruby\",\"Lucky\",\"Other\"]`\n",
        "Choose which rings you want to consider when creating your build."
      ],
      "metadata": {
        "id": "XlD76SKeDey1"
      }
    },
    {
      "cell_type": "code",
      "source": [
        "'''\n",
        "Ring Format Guide -> [\"Ring Name\",\"Ring Name\",\"Ring Name\"]\n",
        "List should NOT inclide duplicate ring names at this point.\n",
        "I recommend including \"Other\" as a ring name to make it possible to search for empty ring slots, but it is not required.\n",
        "\n",
        "VALID RINGS:\n",
        "\"Iridium\"    : 10% more damage\n",
        "\"Aquamarine\" : 10% more CRIT CHANCE\n",
        "\"Jade\"       : 10% more CRIT POWER\n",
        "\"Ruby\"       : 10% more damage\n",
        "\"Lucky\"      : +1 Luck\n",
        "\"Warrior     : +10 ATK (assumes 100% uptime)\n",
        "\"Other\"      : No effect on calc\n",
        "'''\n",
        "\n",
        "# edit the base_rings!\n",
        "base_rings = [\"Iridium\",\"Aquamarine\",\"Jade\",\"Ruby\",\"Lucky\",\"Other\"]"
      ],
      "metadata": {
        "id": "0QNMVNWeER_e"
      },
      "execution_count": null,
      "outputs": []
    },
    {
      "cell_type": "markdown",
      "source": [
        "# Weapon Forges\n",
        "### Default: `[\"Aquamarine\",\"Jade\",\"Ruby\",\"Other\"]`\n",
        "\n",
        "Choose the forges to be considered by the calculator."
      ],
      "metadata": {
        "id": "nGPiA4EGQFpT"
      }
    },
    {
      "cell_type": "code",
      "source": [
        "'''\n",
        "Valid Forges:\n",
        "\"Aquamarine\" : +4.6% CRIT CHANCE\n",
        "\"Jade\"       : +10% CRIT POWER\n",
        "\"Ruby\"       : +10% Base Damage\n",
        "\"Other\"      : No effect on calc\n",
        "'''\n",
        "\n",
        "#edit base_forges here!\n",
        "base_forges = [\"Aquamarine\",\"Jade\",\"Ruby\",\"Other\"]"
      ],
      "metadata": {
        "id": "dHpY_MHSQF9V"
      },
      "execution_count": null,
      "outputs": []
    },
    {
      "cell_type": "markdown",
      "source": [
        "# Weapon Innate Enchants\n",
        "### Default: `[[\"Crit Power\",3],[\"Crit Chance\",3],[\"Attack\",5],[\"Other\",0]]`\n",
        "\n",
        "Choose which Innate Enchantments you want to consider your weapon having. Changing the level of the enchant is supported. The slime slayer enchant should NOT be included in this section."
      ],
      "metadata": {
        "id": "u7t7knugGRot"
      }
    },
    {
      "cell_type": "code",
      "source": [
        "'''\n",
        "Innate Enchant Format Guide ->  [\"Enchant Name\",Level]\n",
        "Ex: [\"Attack\",5]\n",
        "\n",
        "Valid Innate Enchantments:\n",
        "\"Crit Power\"   | Max Level 3 | Increases CRIT POWER by 25 (0.5x) per level\n",
        "\"Crit Chance\"  | Max Level 3 | Increases CRIT CHANCE by 2% per level\n",
        "\"Attack\"       | Max Level 5 | Increases ATK by 1 per level\n",
        "\"Other\"        | Varies      | No effect on calc\n",
        "'''\n",
        "\n",
        "# edit base_innate_enchants here!\n",
        "base_innate_enchants = [[\"Crit Power\",3],[\"Crit Chance\",3],[\"Attack\",5],[\"Other\",0]]"
      ],
      "metadata": {
        "id": "7HRazk-nK6lR"
      },
      "execution_count": null,
      "outputs": []
    },
    {
      "cell_type": "markdown",
      "source": [
        "# Other Weapon Enchants\n",
        "### Default: `[]`\n",
        "\n",
        "Choose which enchants to apply to your weapon. Slime Slayer can be applied alongside Crusader and Bug Killer, but Crusader and Bug Killer are mutually exclusive. (The code will handle other Innate Enchants implicitly if Slime Slayer is included in the list)."
      ],
      "metadata": {
        "id": "TtZlTOs4NDY8"
      }
    },
    {
      "cell_type": "code",
      "source": [
        "'''\n",
        "Weapon Enchant Guide -> [\"Enchant Name\", \"Enchant Name\"]\n",
        "Ex: [\"Slime Slayer\", \"Crusader\"]\n",
        "\n",
        "Valid Enchants:\n",
        "\"Slime Slayer\"    | Increases damage against slimes by 33% + 1\n",
        "\"Crusader\"        | Increases damage against undead and void enemies by 1.5 times. Incompatible with Bug Killer.\n",
        "\"Bug Killer\"      | Increases damage against bugs by 2 times. Incompatible with Crusader.\n",
        "'''\n",
        "\n",
        "# edit base_weapon_enchants here!\n",
        "base_weapon_enchants = []"
      ],
      "metadata": {
        "id": "-ZIZoMStNC5s"
      },
      "execution_count": null,
      "outputs": []
    },
    {
      "cell_type": "markdown",
      "source": [
        "# Player Buffs / Enemy Defense\n",
        "### Default: `0` for all values\n",
        "\n",
        "Set player buffs for attack and luck stats. These are gained primarily from eating food with buffing properties.\n",
        "\n",
        "Set enemy defense to more accurately calculate your damage in high level areas. Enemy defense values are avaiable on the wiki."
      ],
      "metadata": {
        "id": "d3ro85I_SNbz"
      }
    },
    {
      "cell_type": "code",
      "source": [
        "'''\n",
        "Extra Stat Explanation:\n",
        "extra_luck    : gives more crit chance per point\n",
        "extra_atk     : gives +3 base damage per atk\n",
        "enemy_defense : enemies take 1 less damage per defense.\n",
        "'''\n",
        "\n",
        "# edit extra stat buffs here!\n",
        "extra_luck = 0\n",
        "extra_atk = 0\n",
        "enemy_defense = 0"
      ],
      "metadata": {
        "id": "K7GobYjbSnYf"
      },
      "execution_count": null,
      "outputs": []
    },
    {
      "cell_type": "markdown",
      "source": [
        "# Professions\n",
        "### Default: `[\"Fighter\"],[\"Fighter\",\"Brute\"],[\"Scout\"],[\"Scout\",\"Desperado\"]`\n",
        "\n",
        "Choose which professions for the calculator to consider. I would not recommend changing this part."
      ],
      "metadata": {
        "id": "aeadV18qT6WE"
      }
    },
    {
      "cell_type": "code",
      "source": [
        "'''\n",
        "Valid Professions\n",
        "\"Fighter\"   : All attacks deal 10% more damage\n",
        "\"Brute\"     : Deal 15% more damage\n",
        "\"Scout\"     : Critical strike chance increased by 50%\n",
        "\"Desperado\" : Critical strikes are 2x deadlier\n",
        "\n",
        "\"Defender\"  : No effect on calc\n",
        "\"Acrobat\"   : No effect on calc\n",
        "'''\n",
        "\n",
        "# edit base_professions here!\n",
        "base_professions = [[\"Fighter\"],[\"Fighter\",\"Brute\"],[\"Scout\"],[\"Scout\",\"Desperado\"]]"
      ],
      "metadata": {
        "id": "jEVO6HwSURKL"
      },
      "execution_count": null,
      "outputs": []
    },
    {
      "cell_type": "markdown",
      "source": [
        "# Finished!\n",
        "\n",
        "### If all your settings are ready, please run all cells using `Runtime -> Run all`, or `Ctrl + F9`. The `.csv` file will be availible on the left side of the screen under `Files`.  You can see a (pretty broken) preview of it by clicking on it, or download it to view it in Excel or Google Sheets."
      ],
      "metadata": {
        "id": "-8XS_BmhYg4I"
      }
    },
    {
      "cell_type": "markdown",
      "source": [
        "# Calculations\n",
        "\n",
        "### Please do not edit."
      ],
      "metadata": {
        "id": "ZOTX7CbiRzYC"
      }
    },
    {
      "cell_type": "code",
      "source": [
        "# imports\n",
        "import numpy as np\n",
        "import pandas as pd\n",
        "from collections import Counter\n",
        "import time"
      ],
      "metadata": {
        "id": "GTyuKnj3SGxR"
      },
      "execution_count": null,
      "outputs": []
    },
    {
      "cell_type": "code",
      "source": [
        "# creating input list with user input variables.\n",
        "\n",
        "def generate_inputs(weapon,valid_rings,valid_forges,input_professions,valid_innate_enchantments,valid_weapon_enchants):\n",
        "\n",
        "    weapon = weapon.copy()\n",
        "    # rings\n",
        "    # create all possible combined rings, then use those to gen list of all possible 4 ring combos\n",
        "    combined_rings = []\n",
        "    if valid_rings.count(\"Other\") > 0:\n",
        "      combined_rings = [[\"Other\",\"Other\"]]\n",
        "    for i in range(len(valid_rings)):\n",
        "        for j in range(len(valid_rings)):\n",
        "            if i < j:\n",
        "                combined_rings.append([valid_rings[i],valid_rings[j]])\n",
        "\n",
        "    input_rings = []\n",
        "    for i in range(len(combined_rings)):\n",
        "        for j in range(len(combined_rings)):\n",
        "            input_rings.append(combined_rings[i]+combined_rings[j])\n",
        "\n",
        "    # removing all redundant combinations of Iridium / Ruby Rings + dupe warrior rings\n",
        "    for i in range(len(input_rings)-1,-1,-1):\n",
        "        ir = input_rings[i]\n",
        "\n",
        "        if ir.count(\"Warrior\") > 1:\n",
        "            del input_rings[i]\n",
        "        else:\n",
        "            match (ir.count(\"Ruby\") + ir.count(\"Iridium\")):\n",
        "                case 1:\n",
        "                    if ir.count(\"Ruby\") ==  1:\n",
        "                        del input_rings[i]\n",
        "                case 2:\n",
        "                    if ir.count(\"Ruby\") > 0:\n",
        "                        del input_rings[i]\n",
        "                case 3:\n",
        "                    if ir.count(\"Ruby\") ==  2:\n",
        "                        del input_rings[i]\n",
        "\n",
        "\n",
        "    # removing all redundant duplicates like:\n",
        "    # ['Iridium', 'Warrior', 'Iridium', 'Other']\n",
        "    # ['Iridium', 'Other', 'Iridium', 'Warrior']\n",
        "    counters = []\n",
        "    for i in range(len(input_rings)-1,-1,-1):\n",
        "        ir = input_rings[i]\n",
        "        ir.sort()\n",
        "        if Counter(ir) in counters:\n",
        "            del input_rings[i]\n",
        "        else:\n",
        "            counters.append(Counter(ir))\n",
        "\n",
        "    # forges\n",
        "    input_forges = []\n",
        "    for i in range(len(valid_forges)):\n",
        "        for j in range(len(valid_forges)):\n",
        "            for k in range(len(valid_forges)):\n",
        "                if i <=  j <=  k:\n",
        "                    input_forges.append([valid_forges[i],valid_forges[j],valid_forges[k]])\n",
        "\n",
        "    # innate enchantments\n",
        "    input_innate_enchantments = []\n",
        "    if int(weapon[1]) >=  15 or \"Galaxy\" in weapon[0] or \"Infinity\" in weapon[0]:\n",
        "        input_innate_enchantments = [[\"N/A\",0]]\n",
        "    elif valid_weapon_enchants.count(\"Slime Slayer\") > 0:\n",
        "        input_innate_enchantments = [[\"Slime Slayer\",1]]\n",
        "    else:\n",
        "        input_innate_enchantments = valid_innate_enchantments\n",
        "\n",
        "    out = []\n",
        "    for f in input_forges:\n",
        "        for i in input_innate_enchantments:\n",
        "            for r in input_rings:\n",
        "                for p in input_professions:\n",
        "                    out.append([f,i,r,p])\n",
        "    return out"
      ],
      "metadata": {
        "id": "wYKnGC1USJGp"
      },
      "execution_count": null,
      "outputs": []
    },
    {
      "cell_type": "code",
      "source": [
        "# calculate damage of weapon given inputs\n",
        "def calculate_damage(weapon, forges, innate_enchant, rings, professions, extra_luck, extra_atk, weapon_enchants, enemy_defense):\n",
        "\n",
        "    weapon = weapon.copy()\n",
        "    # incorporating all forges into weapon base stats\n",
        "    # forges\n",
        "\n",
        "    weapon[2] += np.max([1, int(weapon[2]*0.1)]) * forges.count(\"Ruby\") # mindmg\n",
        "    weapon[3] += np.max([1, int(weapon[3]*0.1)]) * forges.count(\"Ruby\") # maxdmg\n",
        "    weapon[4] += 0.046 * forges.count(\"Aquamarine\")                     # critchance\n",
        "    weapon[5] += 0.1 * forges.count(\"Jade\")                             # critpower\n",
        "\n",
        "    # dagger crit buff\n",
        "\n",
        "    if weapon[6] ==  \"Dagger\":\n",
        "        weapon[4] = (weapon[4] + 0.005) * 1.12\n",
        "\n",
        "    # ring / playereffect buffs + innate enchants\n",
        "\n",
        "    weapon[2] = int(weapon[2] * (1 + 0.1*(rings.count(\"Ruby\")+rings.count(\"Iridium\")))) # mindmg\n",
        "    weapon[3] = int(weapon[3] * (1 + 0.1*(rings.count(\"Ruby\")+rings.count(\"Iridium\")))) # maxdmg\n",
        "    if innate_enchant[0] ==  \"Crit Chance\":                                              # critchance\n",
        "        weapon[4] = weapon[4] * (1 + 0.1*rings.count(\"Aquamarine\") + 0.02*innate_enchant[1])\n",
        "    else:\n",
        "        weapon[4] = weapon[4] * (1 + 0.1*rings.count(\"Aquamarine\"))\n",
        "    if innate_enchant[0] ==  \"Crit Power\":                                               # critpower\n",
        "        weapon[5] = weapon[5] * (1 + 0.1*rings.count(\"Jade\") + 0.5*innate_enchant[1])\n",
        "    else:\n",
        "        weapon[5] = weapon[5] * (1 + 0.1*rings.count(\"Jade\"))\n",
        "\n",
        "    # scout crit increase\n",
        "\n",
        "    if professions.count(\"Scout\") > 0:\n",
        "        weapon[4] *= 1.5\n",
        "\n",
        "    # ingame, damage rolled between min and max now\n",
        "    pre_nocrit_min = weapon[2]\n",
        "    pre_nocrit_max = weapon[3]\n",
        "\n",
        "    # luck crit increase\n",
        "\n",
        "    weapon[4] = weapon[4] * (1 + 0.025*(rings.count(\"Lucky\") + extra_luck))\n",
        "\n",
        "    # crit damage calculated\n",
        "\n",
        "    pre_crit_min = int(weapon[2] * weapon[5])\n",
        "    pre_crit_max = int(weapon[3] * weapon[5])\n",
        "\n",
        "    # ATK boosts calculated\n",
        "\n",
        "    if innate_enchant[0] ==  \"Attack\":\n",
        "        atk_boost = 3*(innate_enchant[1] + extra_atk + 10*(rings.count(\"Warrior\") > 0))\n",
        "        pre_nocrit_min += atk_boost\n",
        "        pre_nocrit_max += atk_boost\n",
        "        pre_crit_min += atk_boost\n",
        "        pre_crit_max += atk_boost\n",
        "    else:\n",
        "        atk_boost = 3*(extra_atk + 10*(rings.count(\"Warrior\") > 0))\n",
        "        pre_nocrit_min += atk_boost\n",
        "        pre_nocrit_max += atk_boost\n",
        "        pre_crit_min += atk_boost\n",
        "        pre_crit_max += atk_boost\n",
        "\n",
        "    # professions' boosts calculated\n",
        "\n",
        "    if professions.count(\"Fighter\") > 0:\n",
        "        pre_nocrit_min = int(np.ceil(1.1*pre_nocrit_min))\n",
        "        pre_nocrit_max = int(np.ceil(1.1*pre_nocrit_max))\n",
        "        pre_crit_min = int(np.ceil(1.1*pre_crit_min))\n",
        "        pre_crit_max = int(np.ceil(1.1*pre_crit_max))\n",
        "\n",
        "    if professions.count(\"Brute\") > 0:\n",
        "        pre_nocrit_min = int(np.ceil(1.15*pre_nocrit_min))\n",
        "        pre_nocrit_max = int(np.ceil(1.15*pre_nocrit_max))\n",
        "        pre_crit_min = int(np.ceil(1.15*pre_crit_min))\n",
        "        pre_crit_max = int(np.ceil(1.15*pre_crit_max))\n",
        "\n",
        "    if professions.count(\"Desperado\") > 0:\n",
        "        pre_crit_min *= 2\n",
        "        pre_crit_max *= 2\n",
        "\n",
        "    # weapon enchantments (bug killer, crusader, slime slayer?) apply here\n",
        "\n",
        "    if weapon_enchants.count(\"Crusader\") > 0:\n",
        "        pre_nocrit_min = int(1.5*pre_nocrit_min)\n",
        "        pre_nocrit_max = int(1.5*pre_nocrit_max)\n",
        "        pre_crit_min = int(1.5*pre_crit_min)\n",
        "        pre_crit_max = int(1.5*pre_crit_max)\n",
        "\n",
        "    if weapon_enchants.count(\"Bug Killer\") > 0:\n",
        "        pre_nocrit_min = int(2*pre_nocrit_min)\n",
        "        pre_nocrit_max = int(2*pre_nocrit_max)\n",
        "        pre_crit_min = int(2*pre_crit_min)\n",
        "        pre_crit_max = int(2*pre_crit_max)\n",
        "\n",
        "    if weapon_enchants.count(\"Slime Slayer\") > 0:\n",
        "        pre_nocrit_min = int(1.33*pre_nocrit_min + 1)\n",
        "        pre_nocrit_max = int(1.33*pre_nocrit_max + 1)\n",
        "        pre_crit_min = int(1.33*pre_crit_min + 1)\n",
        "        pre_crit_max = int(1.33*pre_crit_max + 1)\n",
        "\n",
        "    pre_nocrit_min = np.maximum(1,int(pre_nocrit_min - enemy_defense))\n",
        "    pre_nocrit_max = np.maximum(1,int(pre_nocrit_max - enemy_defense))\n",
        "    pre_crit_min = np.maximum(1,int(pre_crit_min - enemy_defense))\n",
        "    pre_crit_max = np.maximum(1,int(pre_crit_max - enemy_defense))\n",
        "\n",
        "    ###############################|| OUTPUT CALCS ||###################################\n",
        "    nocrit_min = pre_nocrit_min\n",
        "    nocrit_max = pre_nocrit_max\n",
        "    crit_min = pre_crit_min\n",
        "    crit_max = pre_crit_max\n",
        "\n",
        "    nocrit_avg = np.average([nocrit_min,nocrit_max])\n",
        "    crit_avg = np.average([crit_min,crit_max])\n",
        "\n",
        "    avg_damage = crit_avg*weapon[4] + nocrit_avg*(1-weapon[4])\n",
        "\n",
        "    out = [avg_damage, nocrit_avg, nocrit_min, nocrit_max, crit_avg, crit_min, crit_max, weapon[4]]\n",
        "    return(out)"
      ],
      "metadata": {
        "id": "0q_EzLDiV245"
      },
      "execution_count": null,
      "outputs": []
    },
    {
      "cell_type": "code",
      "source": [
        "# creating the output csv\n",
        "\n",
        "final = []\n",
        "input_list = generate_inputs(base_weapon,base_rings,base_forges,base_professions,base_innate_enchants,base_weapon_enchants)\n",
        "for i in input_list:\n",
        "    final.append(i + calculate_damage(base_weapon, *i, extra_luck, extra_atk, base_weapon_enchants,enemy_defense))\n",
        "\n",
        "master_sheet = pd.DataFrame(data=final,\n",
        "                      columns=[\"Forges\",\n",
        "                                \"Innate Enchant\",\n",
        "                                \"Rings\",\n",
        "                                \"Professions\",\n",
        "                                \"Avg. Hit Damage\",\n",
        "                                \"Avg. Noncrit\",\n",
        "                                \"Min Noncrit\",\n",
        "                                \"Max Noncrit\",\n",
        "                                \"Avg. Crit\",\n",
        "                                \"Min Crit\",\n",
        "                                \"Max Crit\",\n",
        "                                \"Crit. Chance\"])\n",
        "\n",
        "# adding diagnostics to dataframe\n",
        "temp_empty_rings = []\n",
        "for rs in master_sheet[\"Rings\"].values:\n",
        "    temp_empty_rings.append(rs.count(\"Other\"))\n",
        "master_sheet.insert(3,\"Free Rings\",temp_empty_rings)\n",
        "\n",
        "temp_empty_forges = []\n",
        "for fs in master_sheet[\"Forges\"].values:\n",
        "    temp_empty_forges.append(fs.count(\"Other\"))\n",
        "master_sheet.insert(1,\"Free Forges\",temp_empty_forges)\n",
        "\n",
        "# rearranging columns\n",
        "master_sheet = master_sheet[[\"Avg. Hit Damage\",\n",
        "                              \"Crit. Chance\",\n",
        "                              \"Innate Enchant\",\n",
        "                              \"Free Rings\",\n",
        "                              \"Free Forges\",\n",
        "                              \"Rings\",\n",
        "                              \"Forges\",\n",
        "                              \"Professions\",\n",
        "                              \"Avg. Noncrit\",\n",
        "                              \"Min Noncrit\",\n",
        "                              \"Max Noncrit\",\n",
        "                              \"Avg. Crit\",\n",
        "                              \"Min Crit\",\n",
        "                              \"Max Crit\"\n",
        "                              ]]\n",
        "\n",
        "# create csv\n",
        "master_sheet.to_csv(f\"Custom {base_weapon[0]}.csv\")"
      ],
      "metadata": {
        "id": "B0ooXE-MWLzz"
      },
      "execution_count": null,
      "outputs": []
    },
    {
      "cell_type": "code",
      "source": [],
      "metadata": {
        "id": "kVAyX8T5YycP"
      },
      "execution_count": null,
      "outputs": []
    }
  ]
}